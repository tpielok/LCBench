{
 "cells": [
  {
   "cell_type": "code",
   "execution_count": 1,
   "metadata": {},
   "outputs": [],
   "source": [
    "%%capture\n",
    "%cd ..\n",
    "from pprint import pprint\n",
    "import matplotlib.pyplot as plt"
   ]
  },
  {
   "cell_type": "code",
   "execution_count": 2,
   "metadata": {},
   "outputs": [],
   "source": [
    "import json"
   ]
  },
  {
   "cell_type": "markdown",
   "metadata": {},
   "source": [
    "# Importing"
   ]
  },
  {
   "cell_type": "code",
   "execution_count": 3,
   "metadata": {},
   "outputs": [],
   "source": [
    "from api import Benchmark"
   ]
  },
  {
   "cell_type": "code",
   "execution_count": 4,
   "metadata": {},
   "outputs": [
    {
     "name": "stdout",
     "output_type": "stream",
     "text": [
      "==> Loading data...\n",
      "==> No cached data found or cache set to False.\n",
      "==> Reading json data...\n",
      "==> Done.\n"
     ]
    }
   ],
   "source": [
    "bench_dir = \"data/six_datasets_lw.json\"\n",
    "bench = Benchmark(bench_dir, cache=False)"
   ]
  },
  {
   "cell_type": "markdown",
   "metadata": {},
   "source": [
    "# Data generation"
   ]
  },
  {
   "cell_type": "markdown",
   "metadata": {},
   "source": [
    "### Datasets"
   ]
  },
  {
   "cell_type": "code",
   "execution_count": 5,
   "metadata": {},
   "outputs": [
    {
     "name": "stdout",
     "output_type": "stream",
     "text": [
      "['Fashion-MNIST', 'adult', 'higgs', 'jasmine', 'vehicle', 'volkert']\n"
     ]
    }
   ],
   "source": [
    "dataset_names = bench.get_dataset_names()\n",
    "openml_task_ids = bench.get_openml_task_ids()\n",
    "\n",
    "print(dataset_names)"
   ]
  },
  {
   "cell_type": "markdown",
   "metadata": {},
   "source": [
    "- Batch size: [16, 512], on log-scale\n",
    "- Dropout: [0.0, 1.0]\n",
    "- Maximum number of units per layer: [64, 1024], on log-scale\n",
    "- Number of layers: [1, 5]\n",
    "- Learning rate: [1e-4, 1e-1], on log-scale\n",
    "- Momentum: [0.1, 0.99]\n",
    "- Weight decay: [1e-5, 1e-1]"
   ]
  },
  {
   "cell_type": "markdown",
   "metadata": {},
   "source": [
    "### Transformations"
   ]
  },
  {
   "cell_type": "code",
   "execution_count": 6,
   "metadata": {},
   "outputs": [],
   "source": [
    "def create_trafo(lims):\n",
    "    return [[l[0], 1/(l[1]-l[0])] for l in lims]\n",
    "\n",
    "trafos = create_trafo([[16,512],\n",
    "                      [0,1],\n",
    "                       [64,1024],\n",
    "                       [1,5],\n",
    "                       [1e-4,1e-1],\n",
    "                       [0.1, 0.99],\n",
    "                       [1e-5,1e-1]\n",
    "                      ])"
   ]
  },
  {
   "cell_type": "code",
   "execution_count": 7,
   "metadata": {},
   "outputs": [],
   "source": [
    "def apply_trafo(features, trafos):\n",
    "    return [(features[i]-trafos[i][0])*trafos[i][1] for i in range(len(features))]"
   ]
  },
  {
   "cell_type": "markdown",
   "metadata": {},
   "source": [
    "### Generating outputs"
   ]
  },
  {
   "cell_type": "markdown",
   "metadata": {},
   "source": [
    "Add budget as hyperparameter and transform inputs to $[0, 1]^{(d_{configs}+1)}$\n",
    "\n",
    "$X \\in \\mathbb{R}^{(n_{configs}\\cdot \\frac{budget}{step}) \\times (d_{configs}+1)}$\n",
    "with\n",
    "$n_{configs} = 2000, d_{configs}=7$"
   ]
  },
  {
   "cell_type": "code",
   "execution_count": 8,
   "metadata": {},
   "outputs": [],
   "source": [
    "budget = 50\n",
    "step = 2\n",
    "X = [apply_trafo([bench.get_config(dataset_name=dataset_names[0], config_id=str(i))[key] for key in ['batch_size', \n",
    "                                                                                 'max_dropout',\n",
    "                                                                                'max_units',\n",
    "                                                                                'num_layers',\n",
    "                                                                                'learning_rate',\n",
    "                                                                                'momentum',\n",
    "                                                                                'weight_decay']\n",
    "             ], trafos) + [float(b)/budget] for i in range(bench.get_number_of_configs(dataset_name=dataset_names[0]))\n",
    "    for b in range(0, budget, step)]"
   ]
  },
  {
   "cell_type": "markdown",
   "metadata": {},
   "source": [
    "$Y \\in \\mathbb{R}^{n_{datasets} \\times (n_{configs}\\cdot \\frac{budget}{step})}$"
   ]
  },
  {
   "cell_type": "code",
   "execution_count": 9,
   "metadata": {},
   "outputs": [],
   "source": [
    "Y = [[bench.query(dataset_name=d, tag=\"Train/val_balanced_accuracy\", config_id=i)[b] \n",
    "      for i in range(bench.get_number_of_configs(dataset_name=d))\n",
    "      for b in range(0, budget, step)]\n",
    " for d in dataset_names \n",
    " ]"
   ]
  },
  {
   "cell_type": "markdown",
   "metadata": {},
   "source": [
    "$C \\in \\mathbb{R}^{n_{datasets} \\times (n_{configs}\\cdot \\frac{budget}{step})}$"
   ]
  },
  {
   "cell_type": "code",
   "execution_count": 10,
   "metadata": {},
   "outputs": [],
   "source": [
    "C = [[bench.query(dataset_name=d, tag=\"time\", config_id=i)[b] \n",
    "      for i in range(bench.get_number_of_configs(dataset_name=d))\n",
    "      for b in range(0, budget, 2)]\n",
    " for d in dataset_names \n",
    " ]"
   ]
  },
  {
   "cell_type": "code",
   "execution_count": 11,
   "metadata": {},
   "outputs": [],
   "source": [
    "with open('data_lcbench.json', 'w') as file: \n",
    "    file.write(json.dumps({'X': X, 'Y':Y, 'C':C}))"
   ]
  }
 ],
 "metadata": {
  "kernelspec": {
   "display_name": "Python 3",
   "language": "python",
   "name": "python3"
  },
  "language_info": {
   "codemirror_mode": {
    "name": "ipython",
    "version": 3
   },
   "file_extension": ".py",
   "mimetype": "text/x-python",
   "name": "python",
   "nbconvert_exporter": "python",
   "pygments_lexer": "ipython3",
   "version": "3.8.6"
  }
 },
 "nbformat": 4,
 "nbformat_minor": 4
}
